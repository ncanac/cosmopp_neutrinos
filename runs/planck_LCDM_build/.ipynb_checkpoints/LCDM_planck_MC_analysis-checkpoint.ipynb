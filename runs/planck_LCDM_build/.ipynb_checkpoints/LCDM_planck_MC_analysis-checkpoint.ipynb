{
 "metadata": {
  "name": "",
  "signature": "sha256:ddd69a8a3f42587c50fac23e807f1a079b7879a57862e9fd5a6d90a2f98d5fc2"
 },
 "nbformat": 3,
 "nbformat_minor": 0,
 "worksheets": [
  {
   "cells": [
    {
     "cell_type": "code",
     "collapsed": false,
     "input": [
      "import numpy as np\n",
      "import os"
     ],
     "language": "python",
     "metadata": {},
     "outputs": [],
     "prompt_number": 2
    },
    {
     "cell_type": "code",
     "collapsed": false,
     "input": [
      "fname = \"planck_mh\"\n",
      "chains_list = []\n",
      "chains_list = [f for f in os.listdir(\".\") if (fname in f and \".txt\" in f)]"
     ],
     "language": "python",
     "metadata": {},
     "outputs": [],
     "prompt_number": 8
    },
    {
     "cell_type": "code",
     "collapsed": false,
     "input": [
      "chains_list"
     ],
     "language": "python",
     "metadata": {},
     "outputs": [
      {
       "metadata": {},
       "output_type": "pyout",
       "prompt_number": 6,
       "text": [
        "['planck_mh_3.txt',\n",
        " 'planck_mh_5.txt',\n",
        " 'planck_mh_1.txt',\n",
        " 'planck_mh_7.txt',\n",
        " 'planck_mh_8.txt',\n",
        " 'planck_mh_4.txt',\n",
        " 'planck_mh_9.txt',\n",
        " 'planck_mh_2.txt',\n",
        " 'planck_mh_6.txt',\n",
        " 'planck_mh_0.txt']"
       ]
      }
     ],
     "prompt_number": 6
    },
    {
     "cell_type": "code",
     "collapsed": false,
     "input": [
      "param_names = []\n",
      "f = open(fname + \".paramnames\", 'r')\n",
      "for line in f:\n",
      "    param_names.append(line.split()[0])\n",
      "f.close()"
     ],
     "language": "python",
     "metadata": {},
     "outputs": [],
     "prompt_number": 16
    },
    {
     "cell_type": "code",
     "collapsed": false,
     "input": [
      "param_names"
     ],
     "language": "python",
     "metadata": {},
     "outputs": [
      {
       "metadata": {},
       "output_type": "pyout",
       "prompt_number": 17,
       "text": [
        "['ombh2', 'omch2', 'h', 'tau', 'ns', 'As', 'A_planck']"
       ]
      }
     ],
     "prompt_number": 17
    },
    {
     "cell_type": "code",
     "collapsed": false,
     "input": [
      "params = [[] for i in range(len(param_names))]\n",
      "for chain in chains_list:\n",
      "    f = open(chain, 'r')\n",
      "    for line in f:\n",
      "        vals = line.split()\n",
      "        for i, par in enumerate(params):\n",
      "            params[i].append(float(vals[i+2]))\n",
      "    f.close()"
     ],
     "language": "python",
     "metadata": {},
     "outputs": [],
     "prompt_number": 18
    },
    {
     "cell_type": "code",
     "collapsed": false,
     "input": [
      "samples = np.array(params)"
     ],
     "language": "python",
     "metadata": {},
     "outputs": [],
     "prompt_number": 23
    },
    {
     "cell_type": "code",
     "collapsed": false,
     "input": [],
     "language": "python",
     "metadata": {},
     "outputs": []
    }
   ],
   "metadata": {}
  }
 ]
}